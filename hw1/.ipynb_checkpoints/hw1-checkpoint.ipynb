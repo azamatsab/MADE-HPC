{
 "cells": [
  {
   "cell_type": "code",
   "execution_count": 1,
   "id": "1c57a511",
   "metadata": {},
   "outputs": [],
   "source": [
    "import pandas as pd\n",
    "import numpy as np\n",
    "from matplotlib import pyplot as plt\n",
    "import matplotlib.dates as mdates\n",
    "from sklearn.linear_model import LinearRegression"
   ]
  },
  {
   "cell_type": "code",
   "execution_count": 2,
   "id": "ca586ba6",
   "metadata": {},
   "outputs": [],
   "source": [
    "TOP_DEV = 'data/development.csv'\n",
    "TOP_500 = 'data/TOP500_202106.csv'"
   ]
  },
  {
   "cell_type": "markdown",
   "id": "80729f9d",
   "metadata": {},
   "source": [
    "## Part 1\n",
    "\n",
    "#### 50% На основании данных рейтинга top500 спрогнозировать  производительность компьютера №1 в 2025"
   ]
  },
  {
   "cell_type": "markdown",
   "id": "ff4faa62",
   "metadata": {},
   "source": [
    "#### Загрузим датасет для top-1"
   ]
  },
  {
   "cell_type": "code",
   "execution_count": 3,
   "id": "c2f40165",
   "metadata": {},
   "outputs": [],
   "source": [
    "df_dev = pd.read_csv(TOP_DEV, names=['date', 'sum', 'sum_str', 'top1', 'top1_str', 'top500', 'top_500_str'])"
   ]
  },
  {
   "cell_type": "code",
   "execution_count": 4,
   "id": "ae51eafa",
   "metadata": {},
   "outputs": [
    {
     "data": {
      "text/html": [
       "<div>\n",
       "<style scoped>\n",
       "    .dataframe tbody tr th:only-of-type {\n",
       "        vertical-align: middle;\n",
       "    }\n",
       "\n",
       "    .dataframe tbody tr th {\n",
       "        vertical-align: top;\n",
       "    }\n",
       "\n",
       "    .dataframe thead th {\n",
       "        text-align: right;\n",
       "    }\n",
       "</style>\n",
       "<table border=\"1\" class=\"dataframe\">\n",
       "  <thead>\n",
       "    <tr style=\"text-align: right;\">\n",
       "      <th></th>\n",
       "      <th>date</th>\n",
       "      <th>sum</th>\n",
       "      <th>sum_str</th>\n",
       "      <th>top1</th>\n",
       "      <th>top1_str</th>\n",
       "      <th>top500</th>\n",
       "      <th>top_500_str</th>\n",
       "    </tr>\n",
       "  </thead>\n",
       "  <tbody>\n",
       "    <tr>\n",
       "      <th>0</th>\n",
       "      <td>1993-5-1</td>\n",
       "      <td>1128.57</td>\n",
       "      <td>06/1993: Sum = 1.1 TFlop/s</td>\n",
       "      <td>59.7</td>\n",
       "      <td>06/1993: #1 = 59.7 GFlop/s</td>\n",
       "      <td>0.42</td>\n",
       "      <td>06/1993: #500 = 0.4 GFlop/s]</td>\n",
       "    </tr>\n",
       "    <tr>\n",
       "      <th>1</th>\n",
       "      <td>1993-10-1</td>\n",
       "      <td>1493.35</td>\n",
       "      <td>11/1993: Sum = 1.5 TFlop/s</td>\n",
       "      <td>124.0</td>\n",
       "      <td>11/1993: #1 = 124.0 GFlop/s</td>\n",
       "      <td>0.47</td>\n",
       "      <td>11/1993: #500 = 0.5 GFlop/s]</td>\n",
       "    </tr>\n",
       "    <tr>\n",
       "      <th>2</th>\n",
       "      <td>1994-5-1</td>\n",
       "      <td>2317.01</td>\n",
       "      <td>06/1994: Sum = 2.3 TFlop/s</td>\n",
       "      <td>143.4</td>\n",
       "      <td>06/1994: #1 = 143.4 GFlop/s</td>\n",
       "      <td>0.84</td>\n",
       "      <td>06/1994: #500 = 0.8 GFlop/s]</td>\n",
       "    </tr>\n",
       "    <tr>\n",
       "      <th>3</th>\n",
       "      <td>1994-10-1</td>\n",
       "      <td>2732.24</td>\n",
       "      <td>11/1994: Sum = 2.7 TFlop/s</td>\n",
       "      <td>170.0</td>\n",
       "      <td>11/1994: #1 = 170.0 GFlop/s</td>\n",
       "      <td>1.16</td>\n",
       "      <td>11/1994: #500 = 1.2 GFlop/s]</td>\n",
       "    </tr>\n",
       "    <tr>\n",
       "      <th>4</th>\n",
       "      <td>1995-5-1</td>\n",
       "      <td>3927.00</td>\n",
       "      <td>06/1995: Sum = 3.9 TFlop/s</td>\n",
       "      <td>170.0</td>\n",
       "      <td>06/1995: #1 = 170.0 GFlop/s</td>\n",
       "      <td>1.96</td>\n",
       "      <td>06/1995: #500 = 2.0 GFlop/s]</td>\n",
       "    </tr>\n",
       "  </tbody>\n",
       "</table>\n",
       "</div>"
      ],
      "text/plain": [
       "        date      sum                     sum_str   top1  \\\n",
       "0   1993-5-1  1128.57  06/1993: Sum = 1.1 TFlop/s   59.7   \n",
       "1  1993-10-1  1493.35  11/1993: Sum = 1.5 TFlop/s  124.0   \n",
       "2   1994-5-1  2317.01  06/1994: Sum = 2.3 TFlop/s  143.4   \n",
       "3  1994-10-1  2732.24  11/1994: Sum = 2.7 TFlop/s  170.0   \n",
       "4   1995-5-1  3927.00  06/1995: Sum = 3.9 TFlop/s  170.0   \n",
       "\n",
       "                      top1_str  top500                   top_500_str  \n",
       "0   06/1993: #1 = 59.7 GFlop/s    0.42  06/1993: #500 = 0.4 GFlop/s]  \n",
       "1  11/1993: #1 = 124.0 GFlop/s    0.47  11/1993: #500 = 0.5 GFlop/s]  \n",
       "2  06/1994: #1 = 143.4 GFlop/s    0.84  06/1994: #500 = 0.8 GFlop/s]  \n",
       "3  11/1994: #1 = 170.0 GFlop/s    1.16  11/1994: #500 = 1.2 GFlop/s]  \n",
       "4  06/1995: #1 = 170.0 GFlop/s    1.96  06/1995: #500 = 2.0 GFlop/s]  "
      ]
     },
     "execution_count": 4,
     "metadata": {},
     "output_type": "execute_result"
    }
   ],
   "source": [
    "df_dev.head()"
   ]
  },
  {
   "cell_type": "markdown",
   "id": "7f03f735",
   "metadata": {},
   "source": [
    "#### Сохраним нужные для нас колонки - date и top-1"
   ]
  },
  {
   "cell_type": "code",
   "execution_count": 5,
   "id": "51ceba6e",
   "metadata": {},
   "outputs": [],
   "source": [
    "y = df_dev['top1'].to_numpy()\n",
    "x = pd.to_datetime(df_dev['date']).to_numpy()"
   ]
  },
  {
   "cell_type": "markdown",
   "id": "565e10a6",
   "metadata": {},
   "source": [
    "#### Нарисуем график по входным данным. GFlops заплотим сразу по логарифмической шкале"
   ]
  },
  {
   "cell_type": "code",
   "execution_count": 6,
   "id": "389e19a6",
   "metadata": {},
   "outputs": [
    {
     "data": {
      "image/png": "[encoded data removed]",
      "text/plain": [
       "<Figure size 1152x576 with 1 Axes>"
      ]
     },
     "metadata": {
      "needs_background": "light"
     },
     "output_type": "display_data"
    }
   ],
   "source": [
    "plt.figure(figsize=(16, 8))\n",
    "plt.yscale(\"log\")\n",
    "plt.plot(x, y, label='Top-1', color='r')\n",
    "plt.xlabel('year', fontsize=14)\n",
    "plt.ylabel('GFlops (log scale)', fontsize=14)\n",
    "_ = plt.legend()"
   ]
  },
  {
   "cell_type": "markdown",
   "id": "e77cce31",
   "metadata": {},
   "source": [
    "#### Обучим обычную линейную регрессию по дате как data и логарифме GFlops как target"
   ]
  },
  {
   "cell_type": "code",
   "execution_count": 7,
   "id": "9e703c94",
   "metadata": {},
   "outputs": [],
   "source": [
    "regressor = LinearRegression()\n",
    "regressor = regressor.fit(x.reshape(-1, 1), np.log(y))"
   ]
  },
  {
   "cell_type": "markdown",
   "id": "4b7e3c05",
   "metadata": {},
   "source": [
    "#### Создадим массив объектов дат до 2025 года и сделаем предсказания по ним"
   ]
  },
  {
   "cell_type": "code",
   "execution_count": 8,
   "id": "d8c88aa3",
   "metadata": {},
   "outputs": [],
   "source": [
    "pred_dates = np.array([\n",
    "    '2021-10-01', '2022-05-01', \n",
    "    '2022-10-01', '2023-05-01', \n",
    "    '2023-10-01', '2024-05-01', \n",
    "    '2024-10-01', '2025-05-01', \n",
    "], dtype=object)\n",
    "\n",
    "dates_to_pred = pd.to_datetime(pred_dates).to_numpy()"
   ]
  },
  {
   "cell_type": "code",
   "execution_count": 9,
   "id": "f23d59e8",
   "metadata": {},
   "outputs": [],
   "source": [
    "new_x = np.concatenate([x, dates_to_pred])"
   ]
  },
  {
   "cell_type": "code",
   "execution_count": 10,
   "id": "95b03392",
   "metadata": {},
   "outputs": [],
   "source": [
    "preds = regressor.predict(new_x.reshape(-1, 1).astype(object))"
   ]
  },
  {
   "cell_type": "markdown",
   "id": "c81230c4",
   "metadata": {},
   "source": [
    "#### Нарисуем графики предсказанных и настоящих данных"
   ]
  },
  {
   "cell_type": "code",
   "execution_count": 11,
   "id": "e909212c",
   "metadata": {},
   "outputs": [
    {
     "data": {
      "image/png": "[encoded data removed]",
      "text/plain": [
       "<Figure size 1152x576 with 1 Axes>"
      ]
     },
     "metadata": {
      "needs_background": "light"
     },
     "output_type": "display_data"
    }
   ],
   "source": [
    "plt.figure(figsize=(16, 8))\n",
    "plt.yscale(\"log\")\n",
    "plt.plot(x, y, label='Top-1', color='r')\n",
    "plt.plot(new_x, np.e ** preds, label='Top-1-predicted', linestyle='--', color='b')\n",
    "plt.xlabel('year', fontsize=14)\n",
    "plt.ylabel('GFlops (log scale)', fontsize=14)\n",
    "_ = plt.legend()"
   ]
  },
  {
   "cell_type": "markdown",
   "id": "cc1539dc",
   "metadata": {},
   "source": [
    "#### Посмотрим на предсказанную производительность компьютера top-1 к 2025 году:"
   ]
  },
  {
   "cell_type": "code",
   "execution_count": 12,
   "id": "5d60fc3d",
   "metadata": {},
   "outputs": [
    {
     "data": {
      "text/plain": [
       "'Предсказанная производительность суперкомпьютера к 2025 году 13.124 EFlops'"
      ]
     },
     "execution_count": 12,
     "metadata": {},
     "output_type": "execute_result"
    }
   ],
   "source": [
    "f'Предсказанная производительность суперкомпьютера к 2025 году {np.round(np.e ** preds[-1] / 10 ** 9, 3)} EFlops'"
   ]
  },
  {
   "cell_type": "markdown",
   "id": "c2b43992",
   "metadata": {},
   "source": [
    "## PART2\n",
    "#### 50% оцените какой процент всего производимого на Земле электричества потребляют все компьютеры из top500 (на основании открытых данных top500.org)"
   ]
  },
  {
   "cell_type": "markdown",
   "id": "3fd1b0a1",
   "metadata": {},
   "source": [
    "#### Загрузим датасет и посмотрим на данные"
   ]
  },
  {
   "cell_type": "code",
   "execution_count": 21,
   "id": "92e1fe1d",
   "metadata": {},
   "outputs": [],
   "source": [
    "df_500 = pd.read_csv(TOP_500, error_bad_lines=False, sep=';')"
   ]
  },
  {
   "cell_type": "code",
   "execution_count": 26,
   "id": "185a97a7",
   "metadata": {},
   "outputs": [
    {
     "data": {
      "text/plain": [
       "0      29 899,23\n",
       "1      10 096,00\n",
       "2       7 438,28\n",
       "3      15 371,00\n",
       "4       2 528,00\n",
       "         ...    \n",
       "495          NaN\n",
       "496       603,40\n",
       "497          NaN\n",
       "498          NaN\n",
       "499          NaN\n",
       "Name: Power (kW), Length: 500, dtype: object"
      ]
     },
     "execution_count": 26,
     "metadata": {},
     "output_type": "execute_result"
    }
   ],
   "source": [
    "df_500['Power (kW)']"
   ]
  },
  {
   "cell_type": "markdown",
   "id": "f4bc3ac7",
   "metadata": {},
   "source": [
    "#### Видим, что не для всех компьютеров есть данные о мощности, поэтому попытаемся оценить их мощность"
   ]
  },
  {
   "cell_type": "code",
   "execution_count": 29,
   "id": "8afa42df",
   "metadata": {},
   "outputs": [],
   "source": [
    "df_500 = df_500.dropna(subset=['Power (kW)'])"
   ]
  },
  {
   "cell_type": "code",
   "execution_count": 41,
   "id": "6b5e4d79",
   "metadata": {},
   "outputs": [],
   "source": [
    "x = df_500['Rank'].tolist()\n",
    "y = df_500['Power (kW)'].tolist()"
   ]
  },
  {
   "cell_type": "code",
   "execution_count": 46,
   "id": "761ab5ff",
   "metadata": {},
   "outputs": [],
   "source": [
    "def format_power_value(value: str)-> float:\n",
    "    if not isinstance(value, str):\n",
    "        value = str(value)\n",
    "    value = value.strip()\n",
    "    value = value.replace(',', '.')\n",
    "    value = value.replace(u'\\xa0', '')\n",
    "    return float(value)\n",
    "\n",
    "y = list(map(format_power_value, y))"
   ]
  },
  {
   "cell_type": "markdown",
   "id": "a2f98fc8",
   "metadata": {},
   "source": [
    "#### Построим график power - rank и попытаемся понять как оценить"
   ]
  },
  {
   "cell_type": "code",
   "execution_count": 48,
   "id": "2e42caa6",
   "metadata": {},
   "outputs": [
    {
     "name": "stderr",
     "output_type": "stream",
     "text": [
      "No handles with labels found to put in legend.\n"
     ]
    },
    {
     "data": {
      "image/png": "[encoded data removed]",
      "text/plain": [
       "<Figure size 1152x576 with 1 Axes>"
      ]
     },
     "metadata": {
      "needs_background": "light"
     },
     "output_type": "display_data"
    }
   ],
   "source": [
    "plt.figure(figsize=(16, 8))\n",
    "plt.scatter(x, y, color='r')\n",
    "plt.xlabel('Rank', fontsize=14)\n",
    "plt.ylabel('Power kW', fontsize=14)\n",
    "_ = plt.legend()"
   ]
  },
  {
   "cell_type": "markdown",
   "id": "9eb43307",
   "metadata": {},
   "source": [
    "#### Судя по графику основная масса имеет мощность около 2000 кВт, поэтому возьмем среднее в качестве оценки"
   ]
  },
  {
   "cell_type": "code",
   "execution_count": 56,
   "id": "04fcaaf6",
   "metadata": {},
   "outputs": [
    {
     "data": {
      "text/plain": [
       "'Заполним пустые слоты средним: 1900.551 kW'"
      ]
     },
     "execution_count": 56,
     "metadata": {},
     "output_type": "execute_result"
    }
   ],
   "source": [
    "est_power = np.round(np.mean(y), 3)\n",
    "f'Заполним пустые слоты средним: {est_power} kW'"
   ]
  },
  {
   "cell_type": "markdown",
   "id": "662bb964",
   "metadata": {},
   "source": [
    "#### Найдем сумму всех мощностей"
   ]
  },
  {
   "cell_type": "code",
   "execution_count": 57,
   "id": "5f81ca6d",
   "metadata": {},
   "outputs": [
    {
     "data": {
      "text/plain": [
       "'Сумма мощностей равна: 950275.5689999999 kW'"
      ]
     },
     "execution_count": 57,
     "metadata": {},
     "output_type": "execute_result"
    }
   ],
   "source": [
    "power_sum = np.sum(y) + (500 - len(y)) * est_power\n",
    "\n",
    "f'Сумма мощностей равна: {power_sum} kW'"
   ]
  },
  {
   "cell_type": "markdown",
   "id": "27affb24",
   "metadata": {},
   "source": [
    "Производимая электроэнергия на 2020 год (https://yearbook.enerdata.ru/electricity/world-electricity-production-statistics.html) равна 26120TWh (26120 * 10 ** 9 kWh)"
   ]
  },
  {
   "cell_type": "code",
   "execution_count": 58,
   "id": "a84f7715",
   "metadata": {},
   "outputs": [],
   "source": [
    "produced_en = 26120 * 10 ** 9"
   ]
  },
  {
   "cell_type": "code",
   "execution_count": 59,
   "id": "293b1f16",
   "metadata": {},
   "outputs": [
    {
     "data": {
      "text/plain": [
       "'Все компьютеры из top500 потребляют 3.6381147358346092e-06 процент всего производимого на Земле электричества '"
      ]
     },
     "execution_count": 59,
     "metadata": {},
     "output_type": "execute_result"
    }
   ],
   "source": [
    "f'Все компьютеры из top500 потребляют {power_sum / produced_en * 100} процент всего производимого на Земле электричества '"
   ]
  },
  {
   "cell_type": "code",
   "execution_count": null,
   "id": "b9fbcf1b",
   "metadata": {},
   "outputs": [],
   "source": []
  }
 ],
 "metadata": {
  "kernelspec": {
   "display_name": "Python 3",
   "language": "python",
   "name": "python3"
  },
  "language_info": {
   "codemirror_mode": {
    "name": "ipython",
    "version": 3
   },
   "file_extension": ".py",
   "mimetype": "text/x-python",
   "name": "python",
   "nbconvert_exporter": "python",
   "pygments_lexer": "ipython3",
   "version": "3.7.9"
  }
 },
 "nbformat": 4,
 "nbformat_minor": 5
}
